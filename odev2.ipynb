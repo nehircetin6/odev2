{
 "cells": [
  {
   "cell_type": "code",
   "execution_count": null,
   "id": "97b4ef0f-5d98-4e15-bf9e-2b43dae10ef9",
   "metadata": {},
   "outputs": [],
   "source": [
    "#1\n",
    "sayi = int(input(\"Bir sayi giriniz:\"))\n",
    "\n",
    "if sayi > 0 and sayi % 2 == 0:\n",
    "    print(\"Pozitif Çift\")\n",
    "elif sayi > 0 and sayi % 2 == 1:\n",
    "    print(\"Pozitif Tek\")\n",
    "elif sayi < 0 and sayi % 2 == 0:\n",
    "    print(\"Negatif Çift\")\n",
    "elif sayi < 0 and sayi % 2 == 1:\n",
    "    print(\"Negatif Tek\")\n",
    "else:\n",
    "    print(\"Sayi 0\")"
   ]
  },
  {
   "cell_type": "code",
   "execution_count": null,
   "id": "b2f1e65b-afb7-4d6e-930e-e8211619f79f",
   "metadata": {},
   "outputs": [],
   "source": [
    "#2\n",
    "kelime = input(\"Bir kelime giriniz:\")\n",
    "liste = {}\n",
    "\n",
    "for harf in kelime:\n",
    "    if harf in liste:\n",
    "        liste[harf] += 1\n",
    "    else:\n",
    "        liste[harf] = 1\n",
    "\n",
    "print(liste)"
   ]
  },
  {
   "cell_type": "code",
   "execution_count": null,
   "id": "8139df6b-d106-4ccb-a6d0-9d79c96834bc",
   "metadata": {},
   "outputs": [],
   "source": [
    "#3\n",
    "sifre = input(\"Şifrenizi giriniz:\")\n",
    "uzunluk = len(sifre) >= 8\n",
    "buyukHarf = False\n",
    "rakam = False\n",
    "\n",
    "for harf in sifre:\n",
    "    if harf.isupper():\n",
    "        buyukHarf = True\n",
    "    if harf.isdigit():\n",
    "        rakam = True\n",
    "    \n",
    "if uzunluk and buyukHarf and rakam:\n",
    "    print(\"Girdiğiniz şifre geçerli\")\n",
    "else:\n",
    "    if uzunluk != True:\n",
    "        print(\"Şifre en az 8 karakterli olmalı\")\n",
    "        \n",
    "    if buyukHarf != True:\n",
    "        print(\"Şifre en az 1 büyük harf içermeli\")\n",
    "    \n",
    "    if rakam != True:\n",
    "        print(\"Şifreniz en az 1 rakam içermeli\")"
   ]
  },
  {
   "cell_type": "code",
   "execution_count": null,
   "id": "84d04136-1452-4b93-a816-3680468909a0",
   "metadata": {},
   "outputs": [],
   "source": [
    "#4\n",
    "liste1 = [12, 4, 9, 25, 30, 7, 18]\n",
    "liste2 = []\n",
    "toplam = 0\n",
    "\n",
    "for sayi in liste1:\n",
    "    toplam += sayi\n",
    "\n",
    "ort = toplam/len(liste1)\n",
    "\n",
    "for sayi in liste1:\n",
    "    if sayi > ort:\n",
    "        liste2.append(sayi)\n",
    "print(\"Sayıların ortalaması:\", ort)\n",
    "print(\"Ortalamadan büyük olan sayılar:\", liste2)"
   ]
  },
  {
   "cell_type": "code",
   "execution_count": null,
   "id": "cf55f560-ad4a-48ee-aa65-6c88d250a66f",
   "metadata": {},
   "outputs": [],
   "source": [
    "#5\n",
    "for i in range(1, 6):\n",
    "    print(\"*\" * i)"
   ]
  },
  {
   "cell_type": "code",
   "execution_count": null,
   "id": "9958701e-97ad-4148-8919-64e28caabe01",
   "metadata": {},
   "outputs": [],
   "source": [
    "#6\n",
    "toplam = 0\n",
    "ortalama = 0\n",
    "count = 0\n",
    "\n",
    "sayi = int(input(\"Bir sayı giriniz (Çıkmak için 0'a basın): \"))\n",
    "while sayi != 0:\n",
    "    toplam += sayi\n",
    "    count += 1\n",
    "    sayi = int(input(\"Bir sayi giriniz: (Çıkmak için 0'a basın)\"))\n",
    "       \n",
    "ortalama = toplam/count\n",
    "\n",
    "print(\"Girdiğiniz sayılarını toplamı:\", toplam)\n",
    "print(\"Girdiğiniz sayılarını ortalaması:\", ortalama)"
   ]
  },
  {
   "cell_type": "code",
   "execution_count": null,
   "id": "b824b0b0-5f88-4029-9ecb-5e61596c65d8",
   "metadata": {},
   "outputs": [],
   "source": [
    "#7\n",
    "kelime = input(\"Bir kelime giriniz:\")\n",
    "#ters çevirme\n",
    "if kelime[::-1] == kelime:\n",
    "    print(\"Girdiğiniz kelime palindromdur\")\n",
    "else:\n",
    "    print(\"Girdiğiniz kelime palindrom değildir\")"
   ]
  },
  {
   "cell_type": "code",
   "execution_count": null,
   "id": "7ee72c47-4cf9-4359-a717-7e6955b580cb",
   "metadata": {},
   "outputs": [],
   "source": [
    "#8\n",
    "liste3 = []\n",
    "liste5 = []\n",
    "\n",
    "for i in range(1, 101):\n",
    "    if i % 3 == 0:\n",
    "        liste3.append(i)\n",
    "    if i % 5 == 0:\n",
    "        liste5.append(i)\n",
    "\n",
    "print(\"3'e bölünen sayilar:\", liste3)\n",
    "print(\"5'e bölünen sayilar:\", liste5)"
   ]
  },
  {
   "cell_type": "code",
   "execution_count": null,
   "id": "a11576b7-8301-446a-8377-dcd98c728215",
   "metadata": {},
   "outputs": [],
   "source": [
    "#9\n",
    "#title methodu ile kısa yoldan yapılabilir\n",
    "#cümle = input(\"Bir cümle yazınız:\")\n",
    "#print(\"İlk harfleri büyük:\", cümle.title())\n",
    "\n",
    "cümle = input(\"Bir cümle giriniz: \")\n",
    "\n",
    "kelimeler = cümle.split()   \n",
    "yeniCümle = \"\"                 \n",
    "\n",
    "for kelime in kelimeler:\n",
    "    yeniCümle += kelime.capitalize() + \" \" \n",
    "     \n",
    "print(\"Yeni cümle:\", yeniCümle)"
   ]
  },
  {
   "cell_type": "code",
   "execution_count": null,
   "id": "bbbb37c7-7489-40ab-96fe-f220f4fdfbd7",
   "metadata": {},
   "outputs": [],
   "source": [
    "#mini proje\n",
    "yorumSayi = 0 \n",
    "yorumListe = []\n",
    "iyiSayi = 0 \n",
    "\n",
    "while yorumSayi != 5:\n",
    "    yorumlar = input(\"Bir yorum yapınız: \")\n",
    "    yorumListe.append(yorumlar)\n",
    "    yorumSayi += 1\n",
    "\n",
    "print(\"Toplam yorum sayısı:\", yorumSayi)\n",
    "\n",
    "uzunYorum = \"\"\n",
    "kisaYorum = yorumListe[0]  \n",
    "toplamKarakter = 0\n",
    "\n",
    "for yorum in yorumListe:\n",
    "    kelimeler = yorum.split()\n",
    "    \n",
    "    # 'iyi' kelimesini manuel say\n",
    "    for kelime in kelimeler:\n",
    "        if kelime == \"iyi\":\n",
    "            iyiSayi += 1\n",
    "    \n",
    "    # uzun/kısa yorum\n",
    "    if len(yorum) > len(uzunYorum):\n",
    "        uzunYorum = yorum\n",
    "    if len(yorum) < len(kisaYorum):\n",
    "        kisaYorum = yorum\n",
    "    \n",
    "    # toplam karakter\n",
    "    toplamKarakter += len(yorum)\n",
    "\n",
    "ortalamaKarakter = toplamKarakter / yorumSayi\n",
    "\n",
    "print(\"'iyi' kelimesinin toplam sayısı:\", iyiSayi)\n",
    "print(\"En uzun yorum:\", uzunYorum)\n",
    "print(\"En kısa yorum:\", kisaYorum) \n",
    "print(\"Ortalama uzunluk:\", ortalamaKarakter)\n"
   ]
  },
  {
   "cell_type": "code",
   "execution_count": null,
   "id": "2c7cad73-2429-43b5-afb3-28dbd6bd0dce",
   "metadata": {},
   "outputs": [],
   "source": []
  }
 ],
 "metadata": {
  "kernelspec": {
   "display_name": "Python [conda env:base] *",
   "language": "python",
   "name": "conda-base-py"
  },
  "language_info": {
   "codemirror_mode": {
    "name": "ipython",
    "version": 3
   },
   "file_extension": ".py",
   "mimetype": "text/x-python",
   "name": "python",
   "nbconvert_exporter": "python",
   "pygments_lexer": "ipython3",
   "version": "3.12.7"
  }
 },
 "nbformat": 4,
 "nbformat_minor": 5
}
